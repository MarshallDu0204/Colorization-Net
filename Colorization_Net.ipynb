{
  "nbformat": 4,
  "nbformat_minor": 0,
  "metadata": {
    "colab": {
      "name": "Colorization-Net.ipynb",
      "provenance": [],
      "collapsed_sections": [],
      "machine_shape": "hm"
    },
    "kernelspec": {
      "name": "python3",
      "display_name": "Python 3"
    },
    "accelerator": "GPU"
  },
  "cells": [
    {
      "cell_type": "code",
      "metadata": {
        "id": "hdqopooJRKS5",
        "colab_type": "code",
        "colab": {
          "base_uri": "https://localhost:8080/",
          "height": 35
        },
        "outputId": "b02d44e1-73b2-4c8f-8a49-6b65106d2673"
      },
      "source": [
        "import os\n",
        "from google.colab import drive\n",
        "drive.mount('/content/drive', force_remount=True)"
      ],
      "execution_count": 3,
      "outputs": [
        {
          "output_type": "stream",
          "text": [
            "Mounted at /content/drive\n"
          ],
          "name": "stdout"
        }
      ]
    },
    {
      "cell_type": "code",
      "metadata": {
        "id": "Bruz7V6NTyKa",
        "colab_type": "code",
        "colab": {
          "base_uri": "https://localhost:8080/",
          "height": 35
        },
        "outputId": "693c8f83-e818-4124-da9c-680a3950fcdb"
      },
      "source": [
        "print(len(os.listdir('/content/drive/My Drive/Colab Notebooks/colordata/')))"
      ],
      "execution_count": 5,
      "outputs": [
        {
          "output_type": "stream",
          "text": [
            "8083\n"
          ],
          "name": "stdout"
        }
      ]
    },
    {
      "cell_type": "code",
      "metadata": {
        "id": "pNUqQioZSGdy",
        "colab_type": "code",
        "colab": {
          "base_uri": "https://localhost:8080/",
          "height": 35
        },
        "outputId": "3b232be5-a956-4502-b7f7-4c917d09e96c"
      },
      "source": [
        "import os\n",
        "import random\n",
        "import numpy as np\n",
        "import cv2\n",
        "import keras\n",
        "import tensorflow as tf\n",
        "from tqdm import tqdm\n",
        "from keras import Input, Model\n",
        "from keras.applications.inception_resnet_v2 import InceptionResNetV2, preprocess_input, decode_predictions\n",
        "from keras.layers import UpSampling2D, RepeatVector, Reshape, concatenate\n",
        "from keras.layers.convolutional import Conv2D\n",
        "from keras.callbacks import ModelCheckpoint\n",
        "from keras.backend.tensorflow_backend import set_session\n",
        "from keras.utils import generic_utils\n",
        "\n",
        "resnet = InceptionResNetV2(weights=None, include_top=True)\n",
        "def getImgList(basePath = '/content/drive/My Drive/Colab Notebooks/colordata/'):\n",
        "    imgList = os.listdir(basePath)\n",
        "    return imgList\n",
        "\n",
        "def loadWeight(basePath = '/content/drive/My Drive/Colab Notebooks/model/'):\n",
        "    resnet.load_weights(basePath + 'inception_resnet_v2_weights_tf_dim_ordering_tf_kernels.h5')\n",
        "    print(\"Resnet Weight loaded success\")\n",
        "\n",
        "def convImg(dataList, channels):\n",
        "    imgList = []\n",
        "    for img in dataList:\n",
        "        img = cv2.resize(img, (256, 256))\n",
        "        label_img = cv2.cvtColor(img, cv2.COLOR_BGR2LAB)\n",
        "        if channels == 1:\n",
        "            label_img = label_img[:, :, 0]\n",
        "        imgList.append(label_img)\n",
        "    \n",
        "    return np.array(imgList).reshape(len(dataList), 256, 256, channels)\n",
        "\n",
        "def resnetEmbedding(dataList):\n",
        "    imgData = []\n",
        "    for img in dataList:\n",
        "        img = cv2.resize(img, (299, 299))\n",
        "        greyImg = cv2.cvtColor(img, cv2.COLOR_BGR2GRAY)\n",
        "        bgrImg = cv2.cvtColor(greyImg, cv2.COLOR_GRAY2BGR)\n",
        "        bgrImg = preprocess_input(bgrImg)\n",
        "        imgData.append(bgrImg)\n",
        "    imgData = np.array(imgData, dtype=float)\n",
        "    embedding = resnet.predict(imgData)\n",
        "    return embedding\n",
        "\n",
        "def preReadData(dataList):  #fix the colab drive read issue\n",
        "    allData = []\n",
        "    for item in tqdm(dataList):\n",
        "        basePath = '/content/drive/My Drive/Colab Notebooks/colordata/'\n",
        "        img = cv2.imread(basePath + item)\n",
        "        allData.append(img)\n",
        "    return allData\n",
        "\n",
        "def getData(allData, batch_size, train=True):\n",
        "    if train:\n",
        "        allData = allData[:8000]\n",
        "    else:\n",
        "        allData = allData[8000:8083]\n",
        "    while True:\n",
        "        for i in range(0, len(allData), batch_size):\n",
        "            img = convImg(allData[i:i+batch_size], 3)\n",
        "            embeddingImg = resnetEmbedding(allData[i:i+batch_size])\n",
        "            x = img[:, :, :, 0]\n",
        "            x = x.reshape(x.shape + (1,))\n",
        "            y = img[:, :, :, 1:] / 128\n",
        "            yield([x, embeddingImg], y)\n"
      ],
      "execution_count": 6,
      "outputs": [
        {
          "output_type": "stream",
          "text": [
            "Using TensorFlow backend.\n"
          ],
          "name": "stderr"
        }
      ]
    },
    {
      "cell_type": "code",
      "metadata": {
        "id": "jUAv3SWy98IY",
        "colab_type": "code",
        "colab": {}
      },
      "source": [
        "def colorNet():\n",
        "    embedInput = Input(shape=(1000,))\n",
        "    encoderInput = Input(shape=(256, 256, 1,))\n",
        "\n",
        "    x = Conv2D(64, (3, 3), activation='relu', padding='same', strides=2)(encoderInput)\n",
        "    x = Conv2D(128, (3, 3), activation='relu', padding='same')(x)\n",
        "    x = Conv2D(128, (3, 3), activation='relu', padding='same', strides=2)(x)\n",
        "    x = Conv2D(256, (3, 3), activation='relu', padding='same')(x)\n",
        "    x = Conv2D(256, (3, 3), activation='relu', padding='same', strides=2)(x)\n",
        "    x = Conv2D(512, (3, 3), activation='relu', padding='same')(x)\n",
        "    x = Conv2D(512, (3, 3), activation='relu', padding='same')(x)\n",
        "    x = Conv2D(512, (3, 3), activation='relu', padding='same')(x)\n",
        "\n",
        "    fushionX = RepeatVector(32 * 32)(embedInput)\n",
        "    fushionX = Reshape(([32, 32, 1000]))(fushionX)\n",
        "    fushionX = concatenate([x, fushionX], axis=3)\n",
        "\n",
        "    x = Conv2D(256, (1, 1), activation='relu', padding='same')(fushionX)\n",
        "    x = Conv2D(128, (3, 3), activation='relu', padding='same')(x)\n",
        "    x = UpSampling2D((2, 2))(x)\n",
        "    x = Conv2D(64, (3, 3), activation='relu', padding='same')(x)\n",
        "    x = UpSampling2D((2, 2))(x)\n",
        "    x = Conv2D(32, (3, 3), activation='relu', padding='same')(x)\n",
        "    x = Conv2D(16, (3, 3), activation='relu', padding='same')(x)\n",
        "    x = Conv2D(2, (3, 3), activation='relu', padding='same')(x)\n",
        "    result = UpSampling2D((2, 2))(x)\n",
        "\n",
        "    model =  Model(inputs = [encoderInput, embedInput], outputs = result)\n",
        "    model.compile(optimizer='adam', loss='mse', metrics=['accuracy'])\n",
        "\n",
        "    return model\n",
        "\n",
        "modelPath = '/content/drive/My Drive/Colab Notebooks/model/colorNet.hdf5'\n",
        "model = colorNet()\n",
        "#checkpoint = ModelCheckpoint(modelPath, monitor='loss', verbose=1, save_best_only=True)\n",
        "if os.path.exists(modelPath):\n",
        "    model.load_weights(modelPath)\n",
        "    print(\"Check point loaded!\")"
      ],
      "execution_count": 8,
      "outputs": []
    },
    {
      "cell_type": "code",
      "metadata": {
        "id": "GMVAtcFLDnQS",
        "colab_type": "code",
        "colab": {}
      },
      "source": [
        "loadWeight()\n",
        "allData = preReadData(getImgList())\n",
        "r_epochs = 0\n",
        "epoch_length = 160\n",
        "num_epochs = 100\n",
        "dataGen = getData(allData,50)\n",
        "bestLoss = np.Inf\n",
        "iter_num = 0\n",
        "losses = np.zeros((epoch_length, 2))\n",
        "for epoch_num in range(num_epochs):\n",
        "    progbar = generic_utils.Progbar(epoch_length)\n",
        "    print('Epoch {}/{}'.format(r_epochs + 1, num_epochs))\n",
        "    r_epochs += 1\n",
        "    while True:\n",
        "        X,Y = next(dataGen)\n",
        "        modelLoss = model.train_on_batch(X,Y)\n",
        "        losses[iter_num, 0] = modelLoss[0]\n",
        "        losses[iter_num, 1] = modelLoss[1]\n",
        "        \n",
        "        iter_num += 1\n",
        "        progbar.update(iter_num, [('loss', np.mean(losses[:iter_num, 0])), ('acc', np.mean(losses[:iter_num, 1]))])\n",
        "        if iter_num == epoch_length:\n",
        "            if modelLoss[0] < bestLoss:\n",
        "                model.save_weights(modelPath)\n",
        "            iter_num = 0\n",
        "            break\n"
      ],
      "execution_count": null,
      "outputs": []
    },
    {
      "cell_type": "code",
      "metadata": {
        "id": "UbxKw7npUAGp",
        "colab_type": "code",
        "colab": {}
      },
      "source": [
        "def test():\n",
        "    basePath = '/content/drive/My Drive/Colab Notebooks/test/'\n",
        "    testImg = getImgList()\n",
        "    testImg = testImg[8000:8083]\n",
        "    allData = []\n",
        "    for item in testImg:\n",
        "        basePath = '/content/drive/My Drive/Colab Notebooks/colordata/'\n",
        "        img = cv2.imread(basePath + item)\n",
        "        allData.append(img)\n",
        "    greyImg = convImg(allData,1)\n",
        "    imgEmbed = resnetEmbedding(allData)\n",
        "    result = model.predict([greyImg,imgEmbed])\n",
        "    for i in range(len(result)):\n",
        "        combine = np.zeros((256, 256, 3))\n",
        "        combine[:, :, 0] = greyImg[i][:, :, 0]\n",
        "        combine[:, :, 1:] = result[i] * 128\n",
        "        imgCopy = np.uint8(combine)\n",
        "        cv2.imwrite(basePath + 'test_img'+str(i)+'.jpg',cv2.cvtColor(imgCopy, cv2.COLOR_LAB2BGR))\n",
        "test()"
      ],
      "execution_count": null,
      "outputs": []
    }
  ]
}